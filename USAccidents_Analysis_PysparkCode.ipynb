{
 "cells": [
  {
   "cell_type": "code",
   "execution_count": 1,
   "metadata": {},
   "outputs": [
    {
     "name": "stdout",
     "output_type": "stream",
     "text": [
      "Requirement already satisfied: pyspark in /Users/ravitejaadabala/opt/anaconda3/lib/python3.8/site-packages (3.5.1)\n",
      "Requirement already satisfied: py4j==0.10.9.7 in /Users/ravitejaadabala/opt/anaconda3/lib/python3.8/site-packages (from pyspark) (0.10.9.7)\n"
     ]
    }
   ],
   "source": [
    "#install pyspark\n",
    "!pip install pyspark\n"
   ]
  },
  {
   "cell_type": "code",
   "execution_count": 2,
   "metadata": {},
   "outputs": [
    {
     "name": "stdout",
     "output_type": "stream",
     "text": [
      "Requirement already satisfied: findspark in /Users/ravitejaadabala/opt/anaconda3/lib/python3.8/site-packages (2.0.1)\n"
     ]
    }
   ],
   "source": [
    "#install findspark\n",
    "!pip install findspark"
   ]
  },
  {
   "cell_type": "code",
   "execution_count": 2,
   "metadata": {},
   "outputs": [
    {
     "name": "stdout",
     "output_type": "stream",
     "text": [
      "3.5.1\n",
      "3.5.1\n"
     ]
    }
   ],
   "source": [
    "#spark connection\n",
    "import findspark\n",
    "findspark.init()\n",
    "import pyspark\n",
    "from pyspark.context import SparkContext\n",
    "from pyspark.sql import SparkSession\n",
    "sc = SparkContext.getOrCreate()\n",
    "spark = SparkSession.builder.appName('ECE-Finalproject_team11').master('local').config(\"spark.mongodb.input.uri\", \"mongodb://127.0.0.1/\").config(\"spark.mongodb.output.uri\", \"mongodb://127.0.0.1/\").config('spark.jars.packages', 'org.mongodb.spark:mongo-spark-connector_2.11:2.4.1').getOrCreate()\n",
    "print(sc.version)\n",
    "print(spark.version)"
   ]
  },
  {
   "cell_type": "code",
   "execution_count": 3,
   "metadata": {},
   "outputs": [],
   "source": [
    "#import libraries\n",
    "from pyspark.sql import Row\n",
    "import numpy as np\n",
    "import pandas as pd\n",
    "from pyspark.sql.types import *\n",
    "from pyspark.sql.functions import *\n",
    "import matplotlib.pyplot as plt\n",
    "from pyspark.sql import functions as fn\n",
    "from pyspark.ml import feature, regression, evaluation, Pipeline\n",
    "import seaborn as sns\n",
    "from pyspark.ml.feature import VectorAssembler\n",
    "from pyspark.ml import Pipeline\n",
    "from pyspark.ml.regression import LinearRegression\n",
    "from pyspark.ml.stat import Correlation\n",
    "import matplotlib.pyplot as plt\n"
   ]
  },
  {
   "cell_type": "code",
   "execution_count": 4,
   "metadata": {},
   "outputs": [],
   "source": [
    "#Loading data from csv\n",
    "accidents_df = spark.read.option(\"sep\", \",\").option(\"header\", \"true\").csv(\"/Users/ravitejaadabala/Documents/GMU/SEM3/ECE552/Project/US_Accidents_Dec21.csv\")"
   ]
  },
  {
   "cell_type": "code",
   "execution_count": 5,
   "metadata": {},
   "outputs": [
    {
     "name": "stdout",
     "output_type": "stream",
     "text": [
      "+---+--------+-----------+------------+---------+---------+--------+---------+--------------+--------------------+------+-----------+----+----------+----------+-----+-------+-------+----------+------------+-----------------+-----------+----------+--------+--------+----------+--------------+----------+-------------+-----------------+-------+-----+--------+--------+--------+-------+-------+----------+-------+-----+---------------+--------------+------------+--------------+--------------+-----------------+---------------------+\n",
      "| ID|Severity| Start_Time|    End_Time|Start_Lat|Start_Lng| End_Lat|  End_Lng|Distance_in_mi|         Description|Number|     Street|Side|      City|    County|State|Zipcode|Country|  Timezone|Airport_Code|Weather_Timestamp|Temperature|Wind_Chill|Humidity|Pressure|Visibility|Wind_Direction|Wind_Speed|Precipitation|Weather_Condition|Amenity| Bump|Crossing|Give_Way|Junction|No_Exit|Railway|Roundabout|Station| Stop|Traffic_Calming|Traffic_Signal|Turning_Loop|Sunrise_Sunset|Civil_Twilight|Nautical_Twilight|Astronomical_Twilight|\n",
      "+---+--------+-----------+------------+---------+---------+--------+---------+--------------+--------------------+------+-----------+----+----------+----------+-----+-------+-------+----------+------------+-----------------+-----------+----------+--------+--------+----------+--------------+----------+-------------+-----------------+-------+-----+--------+--------+--------+-------+-------+----------+-------+-----+---------------+--------------+------------+--------------+--------------+-----------------+---------------------+\n",
      "|A-1|       3|2/8/16 0:37| 2/8/16 6:37| 40.10891|-83.09286|40.11206|-83.03187|          3.23|Between Sawmill R...|  NULL|Outerbelt E|   R|    Dublin|  Franklin|   OH|  43017|     US|US/Eastern|        KOSU|      2/8/16 0:53|       42.1|      36.1|      58|   29.76|        10|            SW|      10.4|            0|       Light Rain|  FALSE|FALSE|   FALSE|   FALSE|   FALSE|  FALSE|  FALSE|     FALSE|  FALSE|FALSE|          FALSE|         FALSE|       FALSE|         Night|         Night|            Night|                Night|\n",
      "|A-2|       2|2/8/16 5:56|2/8/16 11:56| 39.86542| -84.0628|39.86501|-84.04873|         0.747|At OH-4/OH-235/Ex...|  NULL|     I-70 E|   R|    Dayton|Montgomery|   OH|  45424|     US|US/Eastern|        KFFO|      2/8/16 5:58|       36.9|      NULL|      91|   29.68|        10|          Calm|      NULL|         0.02|       Light Rain|  FALSE|FALSE|   FALSE|   FALSE|   FALSE|  FALSE|  FALSE|     FALSE|  FALSE|FALSE|          FALSE|         FALSE|       FALSE|         Night|         Night|            Night|                Night|\n",
      "|A-3|       2|2/8/16 6:15|2/8/16 12:15| 39.10266|-84.52468|39.10209|-84.52396|         0.055|At I-71/US-50/Exi...|  NULL|     I-75 S|   R|Cincinnati|  Hamilton|   OH|  45203|     US|US/Eastern|        KLUK|      2/8/16 5:53|         36|      NULL|      97|    29.7|        10|          Calm|      NULL|         0.02|         Overcast|  FALSE|FALSE|   FALSE|   FALSE|    TRUE|  FALSE|  FALSE|     FALSE|  FALSE|FALSE|          FALSE|         FALSE|       FALSE|         Night|         Night|            Night|                  Day|\n",
      "|A-4|       2|2/8/16 6:51|2/8/16 12:51| 41.06213|-81.53784|41.06217|-81.53547|         0.123|At Dart Ave/Exit ...|  NULL|     I-77 N|   R|     Akron|    Summit|   OH|  44311|     US|US/Eastern|        KAKR|      2/8/16 6:54|         39|      NULL|      55|   29.65|        10|          Calm|      NULL|         NULL|         Overcast|  FALSE|FALSE|   FALSE|   FALSE|   FALSE|  FALSE|  FALSE|     FALSE|  FALSE|FALSE|          FALSE|         FALSE|       FALSE|         Night|         Night|              Day|                  Day|\n",
      "+---+--------+-----------+------------+---------+---------+--------+---------+--------------+--------------------+------+-----------+----+----------+----------+-----+-------+-------+----------+------------+-----------------+-----------+----------+--------+--------+----------+--------------+----------+-------------+-----------------+-------+-----+--------+--------+--------+-------+-------+----------+-------+-----+---------------+--------------+------------+--------------+--------------+-----------------+---------------------+\n",
      "only showing top 4 rows\n",
      "\n"
     ]
    }
   ],
   "source": [
    "accidents_df.show(4)"
   ]
  },
  {
   "cell_type": "code",
   "execution_count": 6,
   "metadata": {},
   "outputs": [
    {
     "name": "stdout",
     "output_type": "stream",
     "text": [
      "root\n",
      " |-- ID: string (nullable = true)\n",
      " |-- Severity: string (nullable = true)\n",
      " |-- Start_Time: string (nullable = true)\n",
      " |-- End_Time: string (nullable = true)\n",
      " |-- Start_Lat: string (nullable = true)\n",
      " |-- Start_Lng: string (nullable = true)\n",
      " |-- End_Lat: string (nullable = true)\n",
      " |-- End_Lng: string (nullable = true)\n",
      " |-- Distance_in_mi: string (nullable = true)\n",
      " |-- Description: string (nullable = true)\n",
      " |-- Number: string (nullable = true)\n",
      " |-- Street: string (nullable = true)\n",
      " |-- Side: string (nullable = true)\n",
      " |-- City: string (nullable = true)\n",
      " |-- County: string (nullable = true)\n",
      " |-- State: string (nullable = true)\n",
      " |-- Zipcode: string (nullable = true)\n",
      " |-- Country: string (nullable = true)\n",
      " |-- Timezone: string (nullable = true)\n",
      " |-- Airport_Code: string (nullable = true)\n",
      " |-- Weather_Timestamp: string (nullable = true)\n",
      " |-- Temperature: string (nullable = true)\n",
      " |-- Wind_Chill: string (nullable = true)\n",
      " |-- Humidity: string (nullable = true)\n",
      " |-- Pressure: string (nullable = true)\n",
      " |-- Visibility: string (nullable = true)\n",
      " |-- Wind_Direction: string (nullable = true)\n",
      " |-- Wind_Speed: string (nullable = true)\n",
      " |-- Precipitation: string (nullable = true)\n",
      " |-- Weather_Condition: string (nullable = true)\n",
      " |-- Amenity: string (nullable = true)\n",
      " |-- Bump: string (nullable = true)\n",
      " |-- Crossing: string (nullable = true)\n",
      " |-- Give_Way: string (nullable = true)\n",
      " |-- Junction: string (nullable = true)\n",
      " |-- No_Exit: string (nullable = true)\n",
      " |-- Railway: string (nullable = true)\n",
      " |-- Roundabout: string (nullable = true)\n",
      " |-- Station: string (nullable = true)\n",
      " |-- Stop: string (nullable = true)\n",
      " |-- Traffic_Calming: string (nullable = true)\n",
      " |-- Traffic_Signal: string (nullable = true)\n",
      " |-- Turning_Loop: string (nullable = true)\n",
      " |-- Sunrise_Sunset: string (nullable = true)\n",
      " |-- Civil_Twilight: string (nullable = true)\n",
      " |-- Nautical_Twilight: string (nullable = true)\n",
      " |-- Astronomical_Twilight: string (nullable = true)\n",
      "\n"
     ]
    }
   ],
   "source": [
    "accidents_df.printSchema()"
   ]
  },
  {
   "cell_type": "code",
   "execution_count": 8,
   "metadata": {},
   "outputs": [],
   "source": [
    "# converting to parquet and reading from parquet\n",
    "\n",
    "accidents_df.write.parquet(\"usaccidents.parquet\")\n",
    "\n",
    "parquetaccidents = spark.read.parquet(\"usaccidents.parquet\")"
   ]
  },
  {
   "cell_type": "code",
   "execution_count": 9,
   "metadata": {},
   "outputs": [
    {
     "name": "stdout",
     "output_type": "stream",
     "text": [
      "Shape is  (1048575, 47)\n"
     ]
    }
   ],
   "source": [
    "# Shape of the spark dataframe\n",
    "\n",
    "print('Shape is ',(parquetaccidents.count(),len(parquetaccidents.columns)))"
   ]
  },
  {
   "cell_type": "code",
   "execution_count": 10,
   "metadata": {},
   "outputs": [],
   "source": [
    "# Columns to be dropped initially as a list\n",
    "drop_col = ['ID','End_Lat','End_Lng','Description','Number','Street','Airport_Code','Country','Weather_Timestamp','Wind_Chill','Turning_Loop']"
   ]
  },
  {
   "cell_type": "code",
   "execution_count": 11,
   "metadata": {},
   "outputs": [],
   "source": [
    "# Dropping columns from the original dataset\n",
    "\n",
    "parquetaccidents = parquetaccidents.drop(*(drop_col))"
   ]
  },
  {
   "cell_type": "code",
   "execution_count": 12,
   "metadata": {
    "scrolled": true
   },
   "outputs": [
    {
     "name": "stdout",
     "output_type": "stream",
     "text": [
      "+--------+----------+--------+---------+---------+--------------+----+----+------+-----+-------+--------+-----------+--------+--------+----------+--------------+----------+-------------+-----------------+-------+----+--------+--------+--------+-------+-------+----------+-------+----+---------------+--------------+--------------+--------------+-----------------+---------------------+\n",
      "|Severity|Start_Time|End_Time|Start_Lat|Start_Lng|Distance_in_mi|Side|City|County|State|Zipcode|Timezone|Temperature|Humidity|Pressure|Visibility|Wind_Direction|Wind_Speed|Precipitation|Weather_Condition|Amenity|Bump|Crossing|Give_Way|Junction|No_Exit|Railway|Roundabout|Station|Stop|Traffic_Calming|Traffic_Signal|Sunrise_Sunset|Civil_Twilight|Nautical_Twilight|Astronomical_Twilight|\n",
      "+--------+----------+--------+---------+---------+--------------+----+----+------+-----+-------+--------+-----------+--------+--------+----------+--------------+----------+-------------+-----------------+-------+----+--------+--------+--------+-------+-------+----------+-------+----+---------------+--------------+--------------+--------------+-----------------+---------------------+\n",
      "|       0|         0|       0|        0|        0|             0|   0|  55|     0|    0|    435|    1026|      21746|   22728|   18585|     22534|         22626|     57687|       231683|            22892|      0|   0|       0|       0|       0|      0|      0|         0|      0|   0|              0|             0|          1662|          1662|             1662|                 1662|\n",
      "+--------+----------+--------+---------+---------+--------------+----+----+------+-----+-------+--------+-----------+--------+--------+----------+--------------+----------+-------------+-----------------+-------+----+--------+--------+--------+-------+-------+----------+-------+----+---------------+--------------+--------------+--------------+-----------------+---------------------+\n",
      "\n"
     ]
    }
   ],
   "source": [
    "# Checking null values in all the columns\n",
    "\n",
    "from pyspark.sql.functions import isnan, isnull, when, count, col\n",
    "\n",
    "parquetaccidents.select([count(when(isnull(c), c)).alias(c) for c in parquetaccidents.columns]).show()"
   ]
  },
  {
   "cell_type": "code",
   "execution_count": 13,
   "metadata": {},
   "outputs": [],
   "source": [
    "# Replacing same Wind_Direction named with different string N and North same\n",
    "\n",
    "parquetaccidents = parquetaccidents.withColumn('Wind_Direction', when(parquetaccidents.Wind_Direction == 'E', 'East')\\\n",
    "                   .when(parquetaccidents.Wind_Direction == 'W', 'West')\\\n",
    "                   .when(parquetaccidents.Wind_Direction == 'N', 'North')\\\n",
    "                   .when(parquetaccidents.Wind_Direction == 'S', 'South')\\\n",
    "                   .when(parquetaccidents.Wind_Direction == 'VAR', 'Variable')\\\n",
    "                   .when(parquetaccidents.Wind_Direction == 'CALM', 'Calm')\\\n",
    "                   .otherwise(parquetaccidents.Wind_Direction))"
   ]
  },
  {
   "cell_type": "code",
   "execution_count": 14,
   "metadata": {},
   "outputs": [],
   "source": [
    "# Replacing same Weather_Condition named with different string Light Rain Shower and Light Rain Showers same\n",
    "\n",
    "parquetaccidents = parquetaccidents.withColumn('Weather_Condition', when(parquetaccidents.Weather_Condition == 'Light Rain Shower', 'Light Rain Showers')\\\n",
    "                   .when(parquetaccidents.Weather_Condition == 'Light Snow Shower', 'Light Snow Showers')\\\n",
    "                   .when(parquetaccidents.Weather_Condition == 'Rain Shower', 'Rain Showers')\\\n",
    "                   .otherwise(parquetaccidents.Weather_Condition))"
   ]
  },
  {
   "cell_type": "code",
   "execution_count": 15,
   "metadata": {},
   "outputs": [],
   "source": [
    "# Dropping Null rows from City Column as there are only 55 rows with City = Null\n",
    "\n",
    "parquetaccidents = parquetaccidents.where(col(\"city\").isNotNull())"
   ]
  },
  {
   "cell_type": "code",
   "execution_count": 16,
   "metadata": {},
   "outputs": [],
   "source": [
    "# Dropping Null rows from Timezone Column \n",
    "\n",
    "parquetaccidents = parquetaccidents.where(col(\"Timezone\").isNotNull())"
   ]
  },
  {
   "cell_type": "code",
   "execution_count": 17,
   "metadata": {},
   "outputs": [],
   "source": [
    "# Clipping Temperature extreme values to suppress outliers\n",
    "\n",
    "lower = -30\n",
    "upper = 115\n",
    "parquetaccidents = parquetaccidents.withColumn('Temperature', when(parquetaccidents.Temperature > upper, upper)\\\n",
    "                  .when(parquetaccidents.Temperature < lower, lower).otherwise(parquetaccidents.Temperature).alias('Temperature'))"
   ]
  },
  {
   "cell_type": "code",
   "execution_count": 18,
   "metadata": {},
   "outputs": [],
   "source": [
    "# Distance > 100 rows dropped\n",
    "parquetaccidents = parquetaccidents.where(parquetaccidents.Distance_in_mi <=100)"
   ]
  },
  {
   "cell_type": "code",
   "execution_count": 19,
   "metadata": {},
   "outputs": [],
   "source": [
    "# Clipping Visibility extreme values to suppress outliers \n",
    "\n",
    "upper = 20\n",
    "parquetaccidents = parquetaccidents.withColumn('Visibility', when(parquetaccidents.Visibility > upper, upper)\\\n",
    "                  .otherwise(parquetaccidents.Visibility).alias('Visibility'))"
   ]
  },
  {
   "cell_type": "code",
   "execution_count": 20,
   "metadata": {},
   "outputs": [],
   "source": [
    "# Clipping Wind_Speed extreme values to suppress outliers \n",
    "upper = 40\n",
    "parquetaccidents = parquetaccidents.withColumn('Wind_Speed', when(parquetaccidents.Wind_Speed > upper, upper)\\\n",
    "                  .otherwise(parquetaccidents.Wind_Speed).alias('Wind_Speed'))"
   ]
  },
  {
   "cell_type": "code",
   "execution_count": 21,
   "metadata": {},
   "outputs": [],
   "source": [
    "#replacing missing values in categorical attributes with the mode of the corresponding variables\n",
    "\n",
    "for col_name in ['Wind_Direction', 'Weather_Condition']:\n",
    "    common = parquetaccidents.dropna().groupBy(col_name).agg(fn.count('*')).orderBy('count(1)', ascending = False).first()[col_name]\n",
    "    parquetaccidents = parquetaccidents.withColumn(col_name, when(isnull(col_name), common).otherwise(parquetaccidents[col_name]))"
   ]
  },
  {
   "cell_type": "code",
   "execution_count": 22,
   "metadata": {},
   "outputs": [],
   "source": [
    "#converting string to float \n",
    "parquetaccidents=parquetaccidents.withColumn(\"Temperature\",parquetaccidents.Temperature.cast('double'))\n",
    "parquetaccidents=parquetaccidents.withColumn(\"Humidity\",parquetaccidents.Humidity.cast('double'))\n",
    "parquetaccidents=parquetaccidents.withColumn(\"Pressure\",parquetaccidents.Pressure.cast('double'))\n",
    "parquetaccidents=parquetaccidents.withColumn(\"Visibility\",parquetaccidents.Visibility.cast('double'))\n",
    "parquetaccidents=parquetaccidents.withColumn(\"Wind_Speed\",parquetaccidents.Wind_Speed.cast('double'))\n",
    "parquetaccidents=parquetaccidents.withColumn(\"Distance_in_mi\",parquetaccidents.Distance_in_mi.cast('double'))"
   ]
  },
  {
   "cell_type": "code",
   "execution_count": 23,
   "metadata": {},
   "outputs": [],
   "source": [
    "#replacing missing values in numerical attributes with the median of the corresponding variables\n",
    "\n",
    "for col_name in ['Temperature', 'Humidity', 'Pressure', 'Visibility', 'Wind_Speed']:\n",
    "    median = parquetaccidents.dropna().approxQuantile(col_name, [0.5], 0.00)[0]\n",
    "    parquetaccidents = parquetaccidents.withColumn(col_name, when(isnull(col_name), median).otherwise(parquetaccidents[col_name]))"
   ]
  },
  {
   "cell_type": "code",
   "execution_count": 24,
   "metadata": {},
   "outputs": [],
   "source": [
    "# Replacing Null values in Precipitation with 0\n",
    "\n",
    "parquetaccidents = parquetaccidents.withColumn('Precipitation', when(parquetaccidents.Precipitation.isNull(), 0).otherwise(parquetaccidents.Precipitation))"
   ]
  },
  {
   "cell_type": "code",
   "execution_count": 25,
   "metadata": {},
   "outputs": [],
   "source": [
    "# Removing Null values in last 4 columns \n",
    "\n",
    "parquetaccidents = parquetaccidents.filter(parquetaccidents.Sunrise_Sunset.isNotNull())\n",
    "\n",
    "parquetaccidents = parquetaccidents.filter(parquetaccidents.Civil_Twilight.isNotNull())\n",
    "\n",
    "parquetaccidents = parquetaccidents.filter(parquetaccidents.Nautical_Twilight.isNotNull())\n",
    " \n",
    "parquetaccidents = parquetaccidents.filter(parquetaccidents.Astronomical_Twilight.isNotNull())"
   ]
  },
  {
   "cell_type": "code",
   "execution_count": 26,
   "metadata": {},
   "outputs": [],
   "source": [
    "# Adding Month of Year, Day of Week , Week of Year and Hour of the Day Column from Start Time\n",
    "\n",
    "parquetaccidents = parquetaccidents.withColumn(\"Start_Time\",to_timestamp(col('Start_Time'),'MM/dd/yy HH:mm')).withColumn(\"month_of_year\", date_format(col(\"Start_Time\"), \"MMMM\")).withColumn(\"day_of_week\", date_format(col(\"Start_Time\"), \"EEEE\")).withColumn(\"hour_day\", date_format(col(\"Start_Time\"), \"H\")).withColumn(\"week_of_year\", date_format(col(\"Start_Time\"), \"w\")).withColumn(\"Year\", date_format(col(\"Start_Time\"), \"YYYY\"))\n"
   ]
  },
  {
   "cell_type": "code",
   "execution_count": 27,
   "metadata": {},
   "outputs": [],
   "source": [
    "#dropping null values from time related cloumns\n",
    "parquetaccidents = parquetaccidents.filter(parquetaccidents.Start_Time.isNotNull())"
   ]
  },
  {
   "cell_type": "code",
   "execution_count": 36,
   "metadata": {},
   "outputs": [],
   "source": [
    "spark.conf.set(\"spark.sql.legacy.timeParserPolicy\",\"LEGACY\")"
   ]
  },
  {
   "cell_type": "code",
   "execution_count": 37,
   "metadata": {},
   "outputs": [
    {
     "name": "stdout",
     "output_type": "stream",
     "text": [
      "+--------+----------+--------+---------+---------+--------------+----+----+------+-----+-------+--------+-----------+--------+--------+----------+--------------+----------+-------------+-----------------+-------+----+--------+--------+--------+-------+-------+----------+-------+----+---------------+--------------+--------------+--------------+-----------------+---------------------+-------------+-----------+--------+------------+----+\n",
      "|Severity|Start_Time|End_Time|Start_Lat|Start_Lng|Distance_in_mi|Side|City|County|State|Zipcode|Timezone|Temperature|Humidity|Pressure|Visibility|Wind_Direction|Wind_Speed|Precipitation|Weather_Condition|Amenity|Bump|Crossing|Give_Way|Junction|No_Exit|Railway|Roundabout|Station|Stop|Traffic_Calming|Traffic_Signal|Sunrise_Sunset|Civil_Twilight|Nautical_Twilight|Astronomical_Twilight|month_of_year|day_of_week|hour_day|week_of_year|Year|\n",
      "+--------+----------+--------+---------+---------+--------------+----+----+------+-----+-------+--------+-----------+--------+--------+----------+--------------+----------+-------------+-----------------+-------+----+--------+--------+--------+-------+-------+----------+-------+----+---------------+--------------+--------------+--------------+-----------------+---------------------+-------------+-----------+--------+------------+----+\n",
      "|       0|         0|       0|        0|        0|             0|   0|   0|     0|    0|      0|       0|          0|       0|       0|         0|             0|         0|            0|                0|      0|   0|       0|       0|       0|      0|      0|         0|      0|   0|              0|             0|             0|             0|                0|                    0|            0|          0|       0|           0|   0|\n",
      "+--------+----------+--------+---------+---------+--------------+----+----+------+-----+-------+--------+-----------+--------+--------+----------+--------------+----------+-------------+-----------------+-------+----+--------+--------+--------+-------+-------+----------+-------+----+---------------+--------------+--------------+--------------+-----------------+---------------------+-------------+-----------+--------+------------+----+\n",
      "\n"
     ]
    }
   ],
   "source": [
    "# Checking null values in all the columns\n",
    "\n",
    "from pyspark.sql.functions import isnan, isnull, when, count, col\n",
    "\n",
    "parquetaccidents.select([count(when(isnull(c), c)).alias(c) for c in parquetaccidents.columns]).show()"
   ]
  },
  {
   "cell_type": "code",
   "execution_count": null,
   "metadata": {},
   "outputs": [],
   "source": [
    "# Mongodb integration\n",
    "# writing to mongodb\n",
    "parquetaccidents.write.format('mongo')\\\n",
    "        .mode(\"overwrite\")\\\n",
    "        .option( \"uri\", \"mongodb://localhost:27018/ece552_team11.accident_data\") \\\n",
    "        .save()"
   ]
  },
  {
   "cell_type": "code",
   "execution_count": null,
   "metadata": {},
   "outputs": [
    {
     "name": "stdout",
     "output_type": "stream",
     "text": [
      "+-------+---------------------+-----+-----------+--------------+----------+--------+--------------+--------------+--------+--------+--------+-----------------+-------+-------------+--------+-------+----------+--------+----+---------+-----------+-------------------+-----+-------+-----+--------------+-----------+-----------+---------------+--------------+----------+--------------------+--------------+----------+----+----------+--------------------+-----------+--------+-------------+------------+\n",
      "|Amenity|Astronomical_Twilight| Bump|       City|Civil_Twilight|    County|Crossing|Distance_in_mi|      End_Time|Give_Way|Humidity|Junction|Nautical_Twilight|No_Exit|Precipitation|Pressure|Railway|Roundabout|Severity|Side|Start_Lat|  Start_Lng|         Start_Time|State|Station| Stop|Sunrise_Sunset|Temperature|   Timezone|Traffic_Calming|Traffic_Signal|Visibility|   Weather_Condition|Wind_Direction|Wind_Speed|Year|   Zipcode|                 _id|day_of_week|hour_day|month_of_year|week_of_year|\n",
      "+-------+---------------------+-----+-----------+--------------+----------+--------+--------------+--------------+--------+--------+--------+-----------------+-------+-------------+--------+-------+----------+--------+----+---------+-----------+-------------------+-----+-------+-----+--------------+-----------+-----------+---------------+--------------+----------+--------------------+--------------+----------+----+----------+--------------------+-----------+--------+-------------+------------+\n",
      "|  FALSE|                Night|FALSE|  Blue Bell|         Night|Montgomery|   FALSE|         0.018|12/11/21 20:01|   FALSE|    84.0|   FALSE|            Night|  FALSE|            0|   29.27|  FALSE|     FALSE|       2|   R|40.141454| -75.272789|2021-12-11 18:42:00|   PA|  FALSE|FALSE|         Night|       65.0| US/Eastern|          FALSE|         FALSE|      10.0|              Cloudy|           SSW|      14.0|2021|     19422|[639a4786606f5228...|   Saturday|      18|     December|          50|\n",
      "|  FALSE|                  Day|FALSE|     Aurora|           Day|  Arapahoe|   FALSE|         2.573|   9/2/21 7:59|   FALSE|    81.0|    TRUE|              Day|  FALSE|            0|   24.36|  FALSE|     FALSE|       2|   R|39.670523|-104.828856|2021-09-02 06:25:00|   CO|  FALSE|FALSE|         Night|       58.0|US/Mountain|          FALSE|         FALSE|      10.0|       Partly Cloudy|           SSW|       3.0|2021|     80014|[639a4786606f5228...|   Thursday|       6|    September|          36|\n",
      "|  FALSE|                  Day|FALSE|North Miami|           Day|Miami-Dade|   FALSE|         0.123|12/18/21 16:39|   FALSE|    69.0|   FALSE|              Day|  FALSE|            0|   30.05|  FALSE|     FALSE|       2|   L|25.885498| -80.210753|2021-12-18 14:32:00|   FL|  FALSE|FALSE|           Day|       81.0| US/Eastern|          FALSE|         FALSE|      10.0|Thunder in the Vi...|           ESE|      13.0|2021|33168-2527|[639a4786606f5228...|   Saturday|      14|     December|          51|\n",
      "|  FALSE|                  Day|FALSE|     Tucson|           Day|      Pima|   FALSE|         0.072| 11/4/21 14:46|   FALSE|     9.0|   FALSE|              Day|  FALSE|            0|   27.24|  FALSE|     FALSE|       2|   R|32.239612|-110.952456|2021-11-04 13:29:00|   AZ|  FALSE| TRUE|           Day|       88.0|US/Mountain|          FALSE|         FALSE|      10.0|                Fair|            NE|       3.0|2021|85719-7148|[639a4786606f5228...|   Thursday|      13|     November|          45|\n",
      "|  FALSE|                  Day|FALSE|      Lebec|           Day|      Kern|   FALSE|         1.946|12/26/21 15:54|   FALSE|    70.0|   FALSE|              Day|  FALSE|            0|    25.4|  FALSE|     FALSE|       2|   R|34.941233|-118.931196|2021-12-26 14:35:00|   CA|  FALSE|FALSE|           Day|       37.0| US/Pacific|          FALSE|         FALSE|      10.0|                Fair|           NNW|      14.0|2022|     93243|[639a4786606f5228...|     Sunday|      14|     December|           1|\n",
      "+-------+---------------------+-----+-----------+--------------+----------+--------+--------------+--------------+--------+--------+--------+-----------------+-------+-------------+--------+-------+----------+--------+----+---------+-----------+-------------------+-----+-------+-----+--------------+-----------+-----------+---------------+--------------+----------+--------------------+--------------+----------+----+----------+--------------------+-----------+--------+-------------+------------+\n",
      "only showing top 5 rows\n",
      "\n"
     ]
    }
   ],
   "source": [
    "# reading from mongodb\n",
    "mongo_df = spark.read.format(\"mongo\").option( \"uri\", \"mongodb://localhost:27018\").option(\"database\",\"ece552_team11\").option(\"collection\", \"accident_data\").load()\n",
    "mongo_df.show(5)"
   ]
  },
  {
   "cell_type": "markdown",
   "metadata": {},
   "source": [
    "# Exploratory Data Analysis"
   ]
  },
  {
   "cell_type": "code",
   "execution_count": 39,
   "metadata": {},
   "outputs": [],
   "source": [
    "pc1=parquetaccidents.groupBy('State').count()\n"
   ]
  },
  {
   "cell_type": "code",
   "execution_count": 40,
   "metadata": {},
   "outputs": [],
   "source": [
    "pc1=pc1.sort(col('Count').desc())"
   ]
  },
  {
   "cell_type": "code",
   "execution_count": 41,
   "metadata": {},
   "outputs": [],
   "source": [
    "pc2=parquetaccidents.groupBy('City').count()"
   ]
  },
  {
   "cell_type": "code",
   "execution_count": 42,
   "metadata": {},
   "outputs": [],
   "source": [
    "pc2=pc2.sort(col('Count').desc())"
   ]
  },
  {
   "cell_type": "code",
   "execution_count": 43,
   "metadata": {},
   "outputs": [
    {
     "name": "stdout",
     "output_type": "stream",
     "text": [
      "+-----------+-----+\n",
      "|       City|count|\n",
      "+-----------+-----+\n",
      "|      Miami|38929|\n",
      "|    Orlando|21476|\n",
      "|Los Angeles|19595|\n",
      "|     Dallas|15442|\n",
      "|    Houston|14839|\n",
      "|  Charlotte|13044|\n",
      "| Sacramento| 8953|\n",
      "|  San Diego| 8489|\n",
      "|    Raleigh| 7608|\n",
      "|  Nashville| 7084|\n",
      "+-----------+-----+\n",
      "only showing top 10 rows\n",
      "\n"
     ]
    }
   ],
   "source": [
    "pc2.show(10)"
   ]
  },
  {
   "cell_type": "markdown",
   "metadata": {},
   "source": [
    "### Which State and City recorded the maximum number of accidents?"
   ]
  },
  {
   "cell_type": "code",
   "execution_count": 44,
   "metadata": {},
   "outputs": [],
   "source": [
    "pc1= pc1.limit(10).toPandas()"
   ]
  },
  {
   "cell_type": "code",
   "execution_count": 45,
   "metadata": {},
   "outputs": [],
   "source": [
    "pc2= pc2.limit(10).toPandas()"
   ]
  },
  {
   "cell_type": "code",
   "execution_count": 46,
   "metadata": {},
   "outputs": [
    {
     "data": {
      "text/plain": [
       "<AxesSubplot:title={'center':'Top 10 US States with the Highest Number of Accidents'}, xlabel='State'>"
      ]
     },
     "metadata": {},
     "output_type": "display_data"
    },
    {
     "data": {
      "text/plain": [
       "Text(0, 0.5, 'Number of Accidents')"
      ]
     },
     "execution_count": 46,
     "metadata": {},
     "output_type": "execute_result"
    },
    {
     "data": {
      "image/png": "[encoded data removed]",
      "text/plain": [
       "<Figure size 1152x504 with 1 Axes>"
      ]
     },
     "metadata": {
      "needs_background": "light"
     },
     "output_type": "display_data"
    }
   ],
   "source": [
    "display(pc1.plot.bar(x='State',y='count',width=0.5,edgecolor='k',align='center',linewidth=2,title='Top 10 US States with the Highest Number of Accidents',figsize=(16,7)))\n",
    "plt.xlabel('State',fontsize=20)\n",
    "plt.ylabel('Number of Accidents',fontsize=20)"
   ]
  },
  {
   "cell_type": "code",
   "execution_count": 47,
   "metadata": {},
   "outputs": [
    {
     "data": {
      "text/plain": [
       "<AxesSubplot:title={'center':'Top 10 US Cities with the Highest Number of Accidents'}, xlabel='City'>"
      ]
     },
     "metadata": {},
     "output_type": "display_data"
    },
    {
     "data": {
      "text/plain": [
       "Text(0, 0.5, 'Number of Accidents')"
      ]
     },
     "execution_count": 47,
     "metadata": {},
     "output_type": "execute_result"
    },
    {
     "data": {
      "image/png": "[encoded data removed]",
      "text/plain": [
       "<Figure size 1152x504 with 1 Axes>"
      ]
     },
     "metadata": {
      "needs_background": "light"
     },
     "output_type": "display_data"
    }
   ],
   "source": [
    "display(pc2.plot.bar(x='City',y='count',width=0.5,edgecolor='k',align='center',linewidth=2,title='Top 10 US Cities with the Highest Number of Accidents',figsize=(16,7)))\n",
    "plt.xlabel('City',fontsize=20)\n",
    "plt.ylabel('Number of Accidents',fontsize=20)\n"
   ]
  },
  {
   "cell_type": "markdown",
   "metadata": {},
   "source": [
    "### Which month or year had how many accidents and if there is a trend or a pattern?"
   ]
  },
  {
   "cell_type": "code",
   "execution_count": 48,
   "metadata": {},
   "outputs": [],
   "source": [
    "pc3=parquetaccidents.groupBy('Severity','month_of_year').count()"
   ]
  },
  {
   "cell_type": "code",
   "execution_count": 49,
   "metadata": {},
   "outputs": [],
   "source": [
    "pc3=pc3.sort(col('Count').desc())"
   ]
  },
  {
   "cell_type": "code",
   "execution_count": 50,
   "metadata": {},
   "outputs": [
    {
     "name": "stdout",
     "output_type": "stream",
     "text": [
      "+--------+-------------+------+\n",
      "|Severity|month_of_year| count|\n",
      "+--------+-------------+------+\n",
      "|       2|     December|147875|\n",
      "|       2|     November|105865|\n",
      "|       2|      October| 84983|\n",
      "|       2|    September| 77075|\n",
      "|       2|         June| 75395|\n",
      "|       2|         July| 72567|\n",
      "|       2|       August| 71309|\n",
      "|       2|          May| 56200|\n",
      "|       2|        April| 49188|\n",
      "|       2|        March| 45995|\n",
      "+--------+-------------+------+\n",
      "only showing top 10 rows\n",
      "\n"
     ]
    }
   ],
   "source": [
    "pc3.show(10)"
   ]
  },
  {
   "cell_type": "code",
   "execution_count": 51,
   "metadata": {},
   "outputs": [],
   "source": [
    "pc3= pc3.limit(10).toPandas()"
   ]
  },
  {
   "cell_type": "markdown",
   "metadata": {},
   "source": [
    "pc3.head(10)"
   ]
  },
  {
   "cell_type": "code",
   "execution_count": 52,
   "metadata": {},
   "outputs": [
    {
     "data": {
      "text/plain": [
       "<AxesSubplot:title={'center':'Monthly Accidents count for severity level 2'}, xlabel='month_of_year'>"
      ]
     },
     "metadata": {},
     "output_type": "display_data"
    },
    {
     "data": {
      "text/plain": [
       "Text(0, 0.5, 'Number of Accidents')"
      ]
     },
     "execution_count": 52,
     "metadata": {},
     "output_type": "execute_result"
    },
    {
     "data": {
      "image/png": "[encoded data removed]",
      "text/plain": [
       "<Figure size 1152x504 with 1 Axes>"
      ]
     },
     "metadata": {
      "needs_background": "light"
     },
     "output_type": "display_data"
    }
   ],
   "source": [
    "display(pc3.plot.line(x='month_of_year',y='count',title='Monthly Accidents count for severity level 2',figsize=(16,7)))\n",
    "plt.xticks(rotation=45)\n",
    "plt.xlabel('Month',fontsize=20)\n",
    "plt.ylabel('Number of Accidents',fontsize=20)"
   ]
  },
  {
   "cell_type": "markdown",
   "metadata": {},
   "source": [
    "## Year wise count"
   ]
  },
  {
   "cell_type": "code",
   "execution_count": 53,
   "metadata": {},
   "outputs": [],
   "source": [
    "pc4=parquetaccidents.groupBy('Year').count()"
   ]
  },
  {
   "cell_type": "code",
   "execution_count": 54,
   "metadata": {},
   "outputs": [],
   "source": [
    "pc4=pc4.sort(col('count').desc())"
   ]
  },
  {
   "cell_type": "code",
   "execution_count": 55,
   "metadata": {},
   "outputs": [
    {
     "name": "stdout",
     "output_type": "stream",
     "text": [
      "+----+------+\n",
      "|Year| count|\n",
      "+----+------+\n",
      "|2021|637546|\n",
      "|2016|121919|\n",
      "|2017|102842|\n",
      "+----+------+\n",
      "only showing top 3 rows\n",
      "\n"
     ]
    }
   ],
   "source": [
    "pc4.show(3)"
   ]
  },
  {
   "cell_type": "markdown",
   "metadata": {},
   "source": [
    "## Percentage distribution of severity"
   ]
  },
  {
   "cell_type": "code",
   "execution_count": 56,
   "metadata": {},
   "outputs": [],
   "source": [
    "pc5=parquetaccidents.groupBy('Severity').count()"
   ]
  },
  {
   "cell_type": "code",
   "execution_count": 57,
   "metadata": {},
   "outputs": [],
   "source": [
    "pc5=pc5.sort(col('count').desc())"
   ]
  },
  {
   "cell_type": "code",
   "execution_count": 58,
   "metadata": {},
   "outputs": [
    {
     "name": "stdout",
     "output_type": "stream",
     "text": [
      "+--------+------+\n",
      "|Severity| count|\n",
      "+--------+------+\n",
      "|       2|809360|\n",
      "|       3| 39963|\n",
      "|       4| 39138|\n",
      "+--------+------+\n",
      "\n"
     ]
    }
   ],
   "source": [
    "pc5.show()"
   ]
  },
  {
   "cell_type": "code",
   "execution_count": 59,
   "metadata": {},
   "outputs": [],
   "source": [
    "pc5= pc5.limit(5).toPandas()"
   ]
  },
  {
   "cell_type": "code",
   "execution_count": 60,
   "metadata": {},
   "outputs": [
    {
     "data": {
      "text/html": [
       "<div>\n",
       "<style scoped>\n",
       "    .dataframe tbody tr th:only-of-type {\n",
       "        vertical-align: middle;\n",
       "    }\n",
       "\n",
       "    .dataframe tbody tr th {\n",
       "        vertical-align: top;\n",
       "    }\n",
       "\n",
       "    .dataframe thead th {\n",
       "        text-align: right;\n",
       "    }\n",
       "</style>\n",
       "<table border=\"1\" class=\"dataframe\">\n",
       "  <thead>\n",
       "    <tr style=\"text-align: right;\">\n",
       "      <th></th>\n",
       "      <th>Severity</th>\n",
       "      <th>count</th>\n",
       "    </tr>\n",
       "  </thead>\n",
       "  <tbody>\n",
       "    <tr>\n",
       "      <th>0</th>\n",
       "      <td>2</td>\n",
       "      <td>809360</td>\n",
       "    </tr>\n",
       "    <tr>\n",
       "      <th>1</th>\n",
       "      <td>3</td>\n",
       "      <td>39963</td>\n",
       "    </tr>\n",
       "    <tr>\n",
       "      <th>2</th>\n",
       "      <td>4</td>\n",
       "      <td>39138</td>\n",
       "    </tr>\n",
       "  </tbody>\n",
       "</table>\n",
       "</div>"
      ],
      "text/plain": [
       "  Severity   count\n",
       "0        2  809360\n",
       "1        3   39963\n",
       "2        4   39138"
      ]
     },
     "execution_count": 60,
     "metadata": {},
     "output_type": "execute_result"
    }
   ],
   "source": [
    "pc5.head(5)"
   ]
  },
  {
   "cell_type": "code",
   "execution_count": 61,
   "metadata": {},
   "outputs": [],
   "source": [
    "pc5=pc5.set_index('Severity')"
   ]
  },
  {
   "cell_type": "code",
   "execution_count": 62,
   "metadata": {},
   "outputs": [
    {
     "data": {
      "text/plain": [
       "<AxesSubplot:title={'center':'Severity level distribution'}, ylabel='Severity'>"
      ]
     },
     "execution_count": 62,
     "metadata": {},
     "output_type": "execute_result"
    },
    {
     "data": {
      "image/png": "[encoded data removed]",
      "text/plain": [
       "<Figure size 432x288 with 1 Axes>"
      ]
     },
     "metadata": {},
     "output_type": "display_data"
    }
   ],
   "source": [
    "pc5['count'].plot.pie(autopct='%1.1f%%',shadow=False,label='Severity',title='Severity level distribution')"
   ]
  },
  {
   "cell_type": "markdown",
   "metadata": {},
   "source": [
    "# Daily accident counts showing distribiution of accidents on 7 days of the week"
   ]
  },
  {
   "cell_type": "code",
   "execution_count": 63,
   "metadata": {},
   "outputs": [],
   "source": [
    "pc6=parquetaccidents.groupBy('day_of_week').count()"
   ]
  },
  {
   "cell_type": "code",
   "execution_count": 64,
   "metadata": {},
   "outputs": [],
   "source": [
    "pc6=pc6.sort(col('count').desc())"
   ]
  },
  {
   "cell_type": "code",
   "execution_count": 65,
   "metadata": {},
   "outputs": [
    {
     "name": "stdout",
     "output_type": "stream",
     "text": [
      "+-----------+------+\n",
      "|day_of_week| count|\n",
      "+-----------+------+\n",
      "|     Friday|157983|\n",
      "|   Thursday|146045|\n",
      "|  Wednesday|145424|\n",
      "|    Tuesday|141861|\n",
      "|     Monday|130827|\n",
      "|   Saturday| 91551|\n",
      "|     Sunday| 74770|\n",
      "+-----------+------+\n",
      "\n"
     ]
    }
   ],
   "source": [
    "pc6.show()"
   ]
  },
  {
   "cell_type": "code",
   "execution_count": 66,
   "metadata": {},
   "outputs": [],
   "source": [
    "pc6= pc6.limit(10).toPandas()"
   ]
  },
  {
   "cell_type": "code",
   "execution_count": 67,
   "metadata": {},
   "outputs": [
    {
     "data": {
      "image/png": "[encoded data removed]",
      "text/plain": [
       "<Figure size 432x288 with 1 Axes>"
      ]
     },
     "metadata": {
      "needs_background": "light"
     },
     "output_type": "display_data"
    }
   ],
   "source": [
    "pc6.plot(kind='bar',x='day_of_week',y='count',title='Daily Accident count for the week')\n",
    "display()"
   ]
  },
  {
   "cell_type": "markdown",
   "metadata": {},
   "source": [
    "### Accident distribution based on time of the day"
   ]
  },
  {
   "cell_type": "code",
   "execution_count": 68,
   "metadata": {},
   "outputs": [],
   "source": [
    "pc7=parquetaccidents.groupBy('Sunrise_Sunset','Severity').count()\n",
    "pc8=parquetaccidents.groupBy('Civil_Twilight','Severity').count()\n",
    "pc9=parquetaccidents.groupBy('Nautical_Twilight','Severity').count()\n",
    "pc10=parquetaccidents.groupBy('Astronomical_Twilight','Severity').count()"
   ]
  },
  {
   "cell_type": "code",
   "execution_count": 69,
   "metadata": {},
   "outputs": [],
   "source": [
    "pc7=pc7.sort(col('Count').desc())\n",
    "pc8=pc8.sort(col('Count').desc())\n",
    "pc9=pc9.sort(col('Count').desc())\n",
    "pc10=pc10.sort(col('Count').desc())"
   ]
  },
  {
   "cell_type": "code",
   "execution_count": 70,
   "metadata": {},
   "outputs": [
    {
     "name": "stdout",
     "output_type": "stream",
     "text": [
      "+--------------+--------+------+\n",
      "|Sunrise_Sunset|Severity| count|\n",
      "+--------------+--------+------+\n",
      "|           Day|       2|574820|\n",
      "|         Night|       2|234540|\n",
      "|           Day|       3| 26353|\n",
      "|           Day|       4| 22926|\n",
      "|         Night|       4| 16212|\n",
      "|         Night|       3| 13610|\n",
      "+--------------+--------+------+\n",
      "\n"
     ]
    }
   ],
   "source": [
    "pc7.show(6)"
   ]
  },
  {
   "cell_type": "code",
   "execution_count": 71,
   "metadata": {},
   "outputs": [
    {
     "name": "stdout",
     "output_type": "stream",
     "text": [
      "+--------------+--------+------+\n",
      "|Civil_Twilight|Severity| count|\n",
      "+--------------+--------+------+\n",
      "|           Day|       2|610202|\n",
      "|         Night|       2|199158|\n",
      "|           Day|       3| 28097|\n",
      "|           Day|       4| 24499|\n",
      "|         Night|       4| 14639|\n",
      "|         Night|       3| 11866|\n",
      "+--------------+--------+------+\n",
      "\n"
     ]
    }
   ],
   "source": [
    "pc8.show(6)"
   ]
  },
  {
   "cell_type": "code",
   "execution_count": 72,
   "metadata": {},
   "outputs": [
    {
     "name": "stdout",
     "output_type": "stream",
     "text": [
      "+-----------------+--------+------+\n",
      "|Nautical_Twilight|Severity| count|\n",
      "+-----------------+--------+------+\n",
      "|              Day|       2|650235|\n",
      "|            Night|       2|159125|\n",
      "|              Day|       3| 29971|\n",
      "|              Day|       4| 26228|\n",
      "|            Night|       4| 12910|\n",
      "|            Night|       3|  9992|\n",
      "+-----------------+--------+------+\n",
      "\n"
     ]
    }
   ],
   "source": [
    "pc9.show(6)"
   ]
  },
  {
   "cell_type": "code",
   "execution_count": 73,
   "metadata": {},
   "outputs": [
    {
     "name": "stdout",
     "output_type": "stream",
     "text": [
      "+---------------------+--------+------+\n",
      "|Astronomical_Twilight|Severity| count|\n",
      "+---------------------+--------+------+\n",
      "|                  Day|       2|682487|\n",
      "|                Night|       2|126873|\n",
      "|                  Day|       3| 31755|\n",
      "|                  Day|       4| 27951|\n",
      "|                Night|       4| 11187|\n",
      "|                Night|       3|  8208|\n",
      "+---------------------+--------+------+\n",
      "\n"
     ]
    }
   ],
   "source": [
    "pc10.show(6)"
   ]
  },
  {
   "cell_type": "markdown",
   "metadata": {},
   "source": []
  },
  {
   "cell_type": "markdown",
   "metadata": {},
   "source": [
    "## Data Modelling"
   ]
  },
  {
   "cell_type": "code",
   "execution_count": 74,
   "metadata": {},
   "outputs": [],
   "source": [
    "from pyspark.ml.feature import VectorAssembler\n",
    "from pyspark.ml import Pipeline\n",
    "from pyspark.ml.regression import LinearRegression\n",
    "from pyspark.ml.stat import Correlation\n",
    "from pyspark.ml.feature import VectorAssembler\n",
    "from pyspark.ml.classification import LogisticRegression,RandomForestClassifier\n",
    "from pyspark.ml.evaluation import BinaryClassificationEvaluator\n",
    "from pyspark.ml.tuning import CrossValidator, ParamGridBuilder\n",
    "spark = SparkSession.builder.getOrCreate()\n",
    "from sklearn.metrics import classification_report\n",
    "sc = spark.sparkContext\n",
    "from pyspark.ml import Pipeline\n",
    "from pyspark.ml.feature import  StringIndexer, VectorAssembler\n",
    "from pyspark.ml.classification import LogisticRegression"
   ]
  },
  {
   "cell_type": "code",
   "execution_count": 75,
   "metadata": {},
   "outputs": [],
   "source": [
    "parq_acc_modelling = parquetaccidents"
   ]
  },
  {
   "cell_type": "code",
   "execution_count": 76,
   "metadata": {},
   "outputs": [],
   "source": [
    "#converting string to float \n",
    "parq_acc_modelling=parq_acc_modelling.withColumn(\"Year\",parq_acc_modelling.Year.cast('int'))\n",
    "parq_acc_modelling=parq_acc_modelling.withColumn(\"Precipitation\",parq_acc_modelling.Precipitation.cast('float'))\n",
    "parq_acc_modelling=parq_acc_modelling.withColumn(\"hour_day\",parq_acc_modelling.hour_day.cast('int'))\n",
    "parq_acc_modelling=parq_acc_modelling.withColumn(\"week_of_year\",parq_acc_modelling.week_of_year.cast('int'))\n"
   ]
  },
  {
   "cell_type": "code",
   "execution_count": 77,
   "metadata": {},
   "outputs": [],
   "source": [
    "# Dropping column Start time,end time, timezone, start latitude and end latitude as they won't be helpful in predicting\n",
    "# the severiy of the accident\n",
    "# The columns city, county and state have high cardinality so we have dropped them\n",
    "drop_col=[\"Start_Time\",\"End_Time\",\"Start_Lat\",\"Start_Lng\",'City','County','State','Timezone','Zipcode','Weather_Condition','month_of_year','day_of_week']"
   ]
  },
  {
   "cell_type": "code",
   "execution_count": 78,
   "metadata": {},
   "outputs": [],
   "source": [
    "#Dropping the columns \n",
    "parq_acc_modelling = parq_acc_modelling.drop(*(drop_col))"
   ]
  },
  {
   "cell_type": "code",
   "execution_count": 79,
   "metadata": {},
   "outputs": [],
   "source": [
    "# As the data contains very few rows (around 300 in 1 million rows) of Severity 1 we have converted it to Severity 2 because \n",
    "# both the classes indicate accidents with less severity \n",
    "parq_acc_modelling=parq_acc_modelling.withColumn(\"Severity\",when(parq_acc_modelling[\"Severity\"]==1,2).otherwise(parq_acc_modelling[\"Severity\"]))"
   ]
  },
  {
   "cell_type": "code",
   "execution_count": 80,
   "metadata": {},
   "outputs": [],
   "source": [
    "#list of all categorical columns\n",
    "categorical_columns=['Side','Wind_Direction','Sunrise_Sunset','Civil_Twilight',\n",
    "                     'Nautical_Twilight','Astronomical_Twilight']"
   ]
  },
  {
   "cell_type": "code",
   "execution_count": null,
   "metadata": {},
   "outputs": [],
   "source": []
  },
  {
   "cell_type": "code",
   "execution_count": 81,
   "metadata": {},
   "outputs": [],
   "source": [
    "#encoding the categrical column as models do not accept string\n",
    "stages = []\n",
    "\n",
    "#iterate through all categorical values\n",
    "for categoricalCol in categorical_columns:\n",
    "    #create a string indexer for those categorical values and assign a new name including the word 'Index'\n",
    "    stringIndexer = StringIndexer(inputCol = categoricalCol, outputCol = categoricalCol + '_Index')\n",
    "\n",
    "    #append the string Indexer to our list of stages\n",
    "    stages += [stringIndexer]"
   ]
  },
  {
   "cell_type": "code",
   "execution_count": 82,
   "metadata": {},
   "outputs": [],
   "source": [
    "# Running the pipeline which encodes the categorical column\n",
    "\n",
    "pipeline = Pipeline(stages = stages)\n",
    "#fit the pipeline to our dataframe\n",
    "pipelineModel = pipeline.fit(parq_acc_modelling)\n",
    "#transform the dataframe\n",
    "parq_acc_modelling= pipelineModel.transform(parq_acc_modelling)"
   ]
  },
  {
   "cell_type": "code",
   "execution_count": 83,
   "metadata": {},
   "outputs": [],
   "source": [
    "# Dropping the original categorical column\n",
    "parq_acc_modelling=parq_acc_modelling.drop(*(categorical_columns))"
   ]
  },
  {
   "cell_type": "code",
   "execution_count": 84,
   "metadata": {},
   "outputs": [],
   "source": [
    "#List of columns with binary values i.e. True/False\n",
    "\n",
    "binary_columns=['Amenity','Bump','Crossing','Give_Way','Junction','No_Exit','Railway','Roundabout','Station','Stop',\n",
    "'Traffic_Calming','Traffic_Signal']"
   ]
  },
  {
   "cell_type": "code",
   "execution_count": 85,
   "metadata": {},
   "outputs": [],
   "source": [
    "# Converts the binary values into 0/1\n",
    "import pyspark.sql.functions as F\n",
    "from functools import reduce\n",
    "for i in binary_columns:\n",
    "    parq_acc_modelling=parq_acc_modelling.withColumn(i, F.when(parq_acc_modelling[i] == 'FALSE', 0).otherwise(1))"
   ]
  },
  {
   "cell_type": "code",
   "execution_count": 86,
   "metadata": {},
   "outputs": [
    {
     "name": "stdout",
     "output_type": "stream",
     "text": [
      "+--------+--------------+-----------+--------+--------+----------+----------+-------------+-------+----+--------+--------+--------+-------+-------+----------+-------+----+---------------+--------------+--------+------------+----+----------+--------------------+--------------------+--------------------+-----------------------+---------------------------+\n",
      "|Severity|Distance_in_mi|Temperature|Humidity|Pressure|Visibility|Wind_Speed|Precipitation|Amenity|Bump|Crossing|Give_Way|Junction|No_Exit|Railway|Roundabout|Station|Stop|Traffic_Calming|Traffic_Signal|hour_day|week_of_year|Year|Side_Index|Wind_Direction_Index|Sunrise_Sunset_Index|Civil_Twilight_Index|Nautical_Twilight_Index|Astronomical_Twilight_Index|\n",
      "+--------+--------------+-----------+--------+--------+----------+----------+-------------+-------+----+--------+--------+--------+-------+-------+----------+-------+----+---------------+--------------+--------+------------+----+----------+--------------------+--------------------+--------------------+-----------------------+---------------------------+\n",
      "|       0|             0|          0|       0|       0|         0|         0|            0|      0|   0|       0|       0|       0|      0|      0|         0|      0|   0|              0|             0|       0|           0|   0|         0|                   0|                   0|                   0|                      0|                          0|\n",
      "+--------+--------------+-----------+--------+--------+----------+----------+-------------+-------+----+--------+--------+--------+-------+-------+----------+-------+----+---------------+--------------+--------+------------+----+----------+--------------------+--------------------+--------------------+-----------------------+---------------------------+\n",
      "\n"
     ]
    }
   ],
   "source": [
    "# Checking null values in all the columns\n",
    "\n",
    "from pyspark.sql.functions import isnan, isnull, when, count, col\n",
    "\n",
    "parq_acc_modelling.select([count(when(isnull(c), c)).alias(c) for c in parq_acc_modelling.columns]).show()"
   ]
  },
  {
   "cell_type": "code",
   "execution_count": 87,
   "metadata": {},
   "outputs": [],
   "source": [
    "# Converts the categorical columns into String type\n",
    "for i in categorical_columns:\n",
    "    parq_acc_modelling = parq_acc_modelling.withColumn(i+\"_Index\", parq_acc_modelling[i+\"_Index\"].cast(StringType()))"
   ]
  },
  {
   "cell_type": "code",
   "execution_count": 88,
   "metadata": {},
   "outputs": [],
   "source": [
    "# list of columns to be one hot encoded\n",
    "categorical_columns2=[i+\"_Index\"for i in categorical_columns]"
   ]
  },
  {
   "cell_type": "code",
   "execution_count": 89,
   "metadata": {},
   "outputs": [],
   "source": [
    "# Creating dummies of categorical column\n",
    "for category in categorical_columns2:\n",
    "    categ = parq_acc_modelling.select(category).distinct().rdd.flatMap(lambda x:x).collect()\n",
    "    exprs = [fn.when(fn.col(category) == cat,1).otherwise(0)\\\n",
    "                .alias(category+\"_\"+str(int(float(cat)))) for cat in categ]\n",
    "    parq_acc_modelling = parq_acc_modelling.select(exprs+parq_acc_modelling.columns)"
   ]
  },
  {
   "cell_type": "code",
   "execution_count": 90,
   "metadata": {},
   "outputs": [],
   "source": [
    "# From the n dummies made for each categorical column, dropping the nth dummy\n",
    "parq_acc_modelling=parq_acc_modelling.drop(*([i+\"_Index_0\" for i in categorical_columns]))"
   ]
  },
  {
   "cell_type": "code",
   "execution_count": 91,
   "metadata": {},
   "outputs": [],
   "source": [
    "# Dropping all the original categorical columns\n",
    "parq_acc_modelling=parq_acc_modelling.drop(*(categorical_columns2))"
   ]
  },
  {
   "cell_type": "code",
   "execution_count": 92,
   "metadata": {},
   "outputs": [],
   "source": [
    "# Splits the dataframe into train and test\n",
    "training_df, validation_df= parq_acc_modelling.randomSplit([0.70, 0.3],seed=739)"
   ]
  },
  {
   "cell_type": "code",
   "execution_count": 93,
   "metadata": {},
   "outputs": [],
   "source": [
    "# Converts the validation data with Severity 3 and 4 to 1 and rest to 0\n",
    "validation_df=validation_df.withColumn(\"Severity\",when(((validation_df[\"Severity\"]==4) | (validation_df[\"Severity\"]==3)),1).otherwise(0))"
   ]
  },
  {
   "cell_type": "markdown",
   "metadata": {},
   "source": [
    "### Dataset Balancing"
   ]
  },
  {
   "cell_type": "code",
   "execution_count": 94,
   "metadata": {},
   "outputs": [],
   "source": [
    "# binarizing the target variable\n",
    "training_df=training_df.withColumn(\"Severity\",fn.when(((training_df[\"Severity\"]==1) | (training_df[\"Severity\"]==2)),0).otherwise(1))"
   ]
  },
  {
   "cell_type": "code",
   "execution_count": 95,
   "metadata": {},
   "outputs": [],
   "source": [
    "# The class 0 will be undersampled in  such a way that the new number of rows of class 0 matches the number of class 1.\n",
    "major_df = training_df.filter(col(\"Severity\") == 0)\n",
    "minor_df = training_df.filter(col(\"Severity\") == 1)"
   ]
  },
  {
   "cell_type": "code",
   "execution_count": 96,
   "metadata": {},
   "outputs": [],
   "source": [
    "ratio=int(major_df.count()/minor_df.count())"
   ]
  },
  {
   "cell_type": "code",
   "execution_count": 97,
   "metadata": {},
   "outputs": [],
   "source": [
    "# performs the undersampling\n",
    "undersampled_df = major_df.sample(False, 1/ratio)"
   ]
  },
  {
   "cell_type": "code",
   "execution_count": 98,
   "metadata": {},
   "outputs": [],
   "source": [
    "# Combining the data to create the balanced dataset for binary output\n",
    "training_df=training_df.filter(col(\"Severity\") == 1).unionAll(undersampled_df)"
   ]
  },
  {
   "cell_type": "code",
   "execution_count": 99,
   "metadata": {},
   "outputs": [
    {
     "name": "stdout",
     "output_type": "stream",
     "text": [
      "+--------+-----+\n",
      "|Severity|count|\n",
      "+--------+-----+\n",
      "|       1|55107|\n",
      "|       0|56901|\n",
      "+--------+-----+\n",
      "\n"
     ]
    }
   ],
   "source": [
    "f1=training_df.groupBy('Severity').count()\n",
    "f1.show(2)"
   ]
  },
  {
   "cell_type": "code",
   "execution_count": 100,
   "metadata": {},
   "outputs": [],
   "source": [
    "# Declaring the vector assembler\n",
    "va = VectorAssembler().setInputCols([i for i in training_df.columns if i!='Severity']).setOutputCol('features')"
   ]
  },
  {
   "cell_type": "code",
   "execution_count": 101,
   "metadata": {},
   "outputs": [],
   "source": [
    "# Centering the data\n",
    "center = feature.StandardScaler(withMean=True, withStd=False, inputCol='features', outputCol='centered_features')"
   ]
  },
  {
   "cell_type": "code",
   "execution_count": 102,
   "metadata": {},
   "outputs": [],
   "source": [
    "# Converting the categorical columns with string to numerical labels\n",
    "label_stringIdx = StringIndexer(inputCol=\"Severity\", outputCol=\"label\")"
   ]
  },
  {
   "cell_type": "markdown",
   "metadata": {},
   "source": [
    "### Logistic Regression Model"
   ]
  },
  {
   "cell_type": "code",
   "execution_count": 103,
   "metadata": {},
   "outputs": [],
   "source": [
    "# Create initial LogisticRegression model\n",
    "lr_w = LogisticRegression(labelCol=\"label\", featuresCol=\"centered_features\")\n",
    "\n",
    "# Train model with Training Data\n",
    "lrModel_w = Pipeline(stages=[label_stringIdx,va, center, lr_w])\n",
    "\n",
    "# Fits the model\n",
    "lr_fit_w = lrModel_w.fit(training_df)"
   ]
  },
  {
   "cell_type": "code",
   "execution_count": 104,
   "metadata": {},
   "outputs": [
    {
     "name": "stdout",
     "output_type": "stream",
     "text": [
      "+-----------------------------+-------------------------+----------------------+----------------------+----------------------+-----------------------+-----------------------+----------------------+-----------------------+-----------------------+-----------------------+----------------------+----------------------+----------------------+----------------------+-----------------------+----------------------+----------------------+----------------------+-----------------------+-----------------------+------------+--------+--------------+-----------+--------+--------+----------+----------+-------------+-------+----+--------+--------+--------+-------+-------+----------+-------+----+---------------+--------------+--------+------------+----+\n",
      "|Astronomical_Twilight_Index_1|Nautical_Twilight_Index_1|Civil_Twilight_Index_1|Sunrise_Sunset_Index_1|Wind_Direction_Index_1|Wind_Direction_Index_15|Wind_Direction_Index_17|Wind_Direction_Index_9|Wind_Direction_Index_12|Wind_Direction_Index_10|Wind_Direction_Index_14|Wind_Direction_Index_5|Wind_Direction_Index_6|Wind_Direction_Index_4|Wind_Direction_Index_7|Wind_Direction_Index_11|Wind_Direction_Index_2|Wind_Direction_Index_8|Wind_Direction_Index_3|Wind_Direction_Index_16|Wind_Direction_Index_13|Side_Index_1|Severity|Distance_in_mi|Temperature|Humidity|Pressure|Visibility|Wind_Speed|Precipitation|Amenity|Bump|Crossing|Give_Way|Junction|No_Exit|Railway|Roundabout|Station|Stop|Traffic_Calming|Traffic_Signal|hour_day|week_of_year|Year|\n",
      "+-----------------------------+-------------------------+----------------------+----------------------+----------------------+-----------------------+-----------------------+----------------------+-----------------------+-----------------------+-----------------------+----------------------+----------------------+----------------------+----------------------+-----------------------+----------------------+----------------------+----------------------+-----------------------+-----------------------+------------+--------+--------------+-----------+--------+--------+----------+----------+-------------+-------+----+--------+--------+--------+-------+-------+----------+-------+----+---------------+--------------+--------+------------+----+\n",
      "|                            0|                        0|                     0|                     0|                     0|                      0|                      0|                     0|                      0|                      0|                      0|                     0|                     0|                     0|                     0|                      0|                     0|                     0|                     0|                      0|                      0|           0|       0|             0|          0|       0|       0|         0|         0|            0|      0|   0|       0|       0|       0|      0|      0|         0|      0|   0|              0|             0|       0|           0|   0|\n",
      "+-----------------------------+-------------------------+----------------------+----------------------+----------------------+-----------------------+-----------------------+----------------------+-----------------------+-----------------------+-----------------------+----------------------+----------------------+----------------------+----------------------+-----------------------+----------------------+----------------------+----------------------+-----------------------+-----------------------+------------+--------+--------------+-----------+--------+--------+----------+----------+-------------+-------+----+--------+--------+--------+-------+-------+----------+-------+----+---------------+--------------+--------+------------+----+\n",
      "\n"
     ]
    }
   ],
   "source": [
    "# Checking null values in all the columns\n",
    "\n",
    "from pyspark.sql.functions import isnan, isnull, when, count, col\n",
    "\n",
    "training_df.select([count(when(isnull(c), c)).alias(c) for c in training_df.columns]).show()"
   ]
  },
  {
   "cell_type": "code",
   "execution_count": 105,
   "metadata": {},
   "outputs": [],
   "source": [
    "# Performs the prediiction on test set\n",
    "pred_lrb = lr_fit_w.transform(validation_df)"
   ]
  },
  {
   "cell_type": "code",
   "execution_count": 106,
   "metadata": {},
   "outputs": [
    {
     "name": "stdout",
     "output_type": "stream",
     "text": [
      "Accuracy: 0.8071698368238854\n"
     ]
    }
   ],
   "source": [
    "# Calculates the accuracy for binary data\n",
    "true_labels=validation_df.toPandas()[\"Severity\"]\n",
    "binary_prediction=lr_fit_w.transform(validation_df).select(\"prediction\").collect()\n",
    "binary_true_labels=validation_df.select(\"Severity\").collect()\n",
    "print(\"Accuracy:\",np.sum(list([int(binary_true_labels[i][0]==binary_prediction[i][0]) for i in range(len(true_labels))]))/len(true_labels))"
   ]
  },
  {
   "cell_type": "code",
   "execution_count": 107,
   "metadata": {},
   "outputs": [
    {
     "name": "stdout",
     "output_type": "stream",
     "text": [
      "Test Area Under ROC 0.8615517360074014\n"
     ]
    }
   ],
   "source": [
    "# Using the evaluator to calculate the AUC ROC\n",
    "evaluator_lrb = BinaryClassificationEvaluator(labelCol='label',metricName='areaUnderROC')\n",
    "print('Test Area Under ROC', evaluator_lrb.evaluate(pred_lrb))"
   ]
  },
  {
   "cell_type": "code",
   "execution_count": 108,
   "metadata": {},
   "outputs": [
    {
     "data": {
      "image/png": "[encoded data removed]",
      "text/plain": [
       "<Figure size 432x288 with 1 Axes>"
      ]
     },
     "metadata": {
      "needs_background": "light"
     },
     "output_type": "display_data"
    },
    {
     "name": "stdout",
     "output_type": "stream",
     "text": [
      "Training set areaUnderROC: 0.862236438290255\n"
     ]
    }
   ],
   "source": [
    "trainingSummary = lr_fit_w.stages[-1].summary\n",
    "roc = trainingSummary.roc.toPandas()\n",
    "plt.plot(roc['FPR'],roc['TPR'])\n",
    "plt.ylabel('False Positive Rate')\n",
    "plt.xlabel('True Positive Rate')\n",
    "plt.title('ROC Curve')\n",
    "plt.grid(True)\n",
    "plt.show()\n",
    "print('Training set areaUnderROC: ' + str(trainingSummary.areaUnderROC))"
   ]
  },
  {
   "cell_type": "markdown",
   "metadata": {},
   "source": [
    "### Random Forest Classifier"
   ]
  },
  {
   "cell_type": "code",
   "execution_count": 109,
   "metadata": {},
   "outputs": [],
   "source": [
    "# import the required libraries\n",
    "from pyspark.sql import SparkSession\n",
    "from pyspark.sql import Row\n",
    "import numpy as np\n",
    "import pandas as pd\n",
    "from pyspark.sql.types import *\n",
    "from pyspark.sql.functions import *\n",
    "import matplotlib.pyplot as plt\n",
    "from pyspark.sql import functions as fn\n",
    "from pyspark.ml import feature, regression, evaluation, Pipeline\n",
    "import seaborn as sns\n",
    "from pyspark.ml.feature import VectorAssembler\n",
    "from pyspark.ml import Pipeline\n",
    "from pyspark.ml.regression import LinearRegression\n",
    "from pyspark.ml.classification import GBTClassifier\n",
    "from pyspark.ml.evaluation import BinaryClassificationEvaluator\n",
    "from pyspark.ml.stat import Correlation\n",
    "from pyspark.ml.feature import VectorAssembler\n",
    "from pyspark.ml.classification import DecisionTreeClassifier\n",
    "from pyspark.ml import Pipeline\n",
    "from sklearn.metrics import classification_report\n",
    "from pyspark.ml.feature import OneHotEncoder, OneHotEncoderModel, StringIndexer\n",
    "from pyspark.ml.classification import LogisticRegression,RandomForestClassifier\n",
    "from pyspark.ml.evaluation import BinaryClassificationEvaluator\n",
    "from pyspark.ml.tuning import CrossValidator, ParamGridBuilder\n"
   ]
  },
  {
   "cell_type": "code",
   "execution_count": 110,
   "metadata": {},
   "outputs": [],
   "source": [
    "# Create an initial RandomForest model.\n",
    "rf = RandomForestClassifier(labelCol=\"label\", featuresCol=\"features\",seed=739)\n",
    "\n",
    "# Train model with Training Data\n",
    "rfModel = Pipeline(stages=[label_stringIdx,va, rf])"
   ]
  },
  {
   "cell_type": "code",
   "execution_count": 111,
   "metadata": {},
   "outputs": [],
   "source": [
    "rf_fit = rfModel.fit(training_df)"
   ]
  },
  {
   "cell_type": "code",
   "execution_count": 112,
   "metadata": {},
   "outputs": [],
   "source": [
    "# Creating the evaluator for our binary classification\n",
    "evaluator_rfb = BinaryClassificationEvaluator(labelCol='label',metricName='areaUnderROC')"
   ]
  },
  {
   "cell_type": "code",
   "execution_count": 113,
   "metadata": {},
   "outputs": [
    {
     "name": "stdout",
     "output_type": "stream",
     "text": [
      "Accuracy: 0.8088143637032643\n"
     ]
    }
   ],
   "source": [
    "# Prints the accuracy of our binary classification\n",
    "true_labels=validation_df.toPandas()[\"Severity\"]\n",
    "evaluator_rfb.evaluate(rf_fit.transform(validation_df))\n",
    "binary_prediction=rf_fit.transform(validation_df).select(\"prediction\").collect()\n",
    "binary_true_labels=validation_df.select(\"Severity\").collect()\n",
    "print(\"Accuracy:\",np.sum(list([int(binary_true_labels[i][0]==binary_prediction[i][0]) for i in range(len(true_labels))]))/len(true_labels))"
   ]
  },
  {
   "cell_type": "code",
   "execution_count": 114,
   "metadata": {},
   "outputs": [
    {
     "name": "stdout",
     "output_type": "stream",
     "text": [
      "AUC ROC score: 0.8483796233812081\n"
     ]
    }
   ],
   "source": [
    "print(\"AUC ROC score:\",evaluator_rfb.evaluate(rf_fit.transform(validation_df)))"
   ]
  },
  {
   "cell_type": "code",
   "execution_count": 115,
   "metadata": {},
   "outputs": [],
   "source": [
    "# create a dataframe to print the feature importance\n",
    "pd.set_option('display.max_rows', None)\n",
    "feat_imp_tuned_rf = pd.DataFrame(list(zip([i for i in training_df.columns if i!='Severity'], rf_fit.stages[-1].featureImportances)),\n",
    "            columns = ['column', 'weight']).sort_values('weight',ascending=False)"
   ]
  },
  {
   "cell_type": "code",
   "execution_count": 116,
   "metadata": {},
   "outputs": [
    {
     "data": {
      "image/png": "[encoded data removed]",
      "text/plain": [
       "<Figure size 720x720 with 1 Axes>"
      ]
     },
     "metadata": {
      "needs_background": "light"
     },
     "output_type": "display_data"
    }
   ],
   "source": [
    "plt.figure(figsize=(10,10))\n",
    "sns.barplot(x=feat_imp_tuned_rf['column'][:10], y=feat_imp_tuned_rf['weight'][:10],data=feat_imp_tuned_rf)\n",
    "plt.xticks(rotation=90)\n",
    "plt.xlabel(\"Features\")\n",
    "plt.ylabel(\"Weights\")\n",
    "plt.title(\"Top 10 Features based on Importance from Random Forest\");"
   ]
  },
  {
   "cell_type": "markdown",
   "metadata": {},
   "source": [
    "### Decision Tree"
   ]
  },
  {
   "cell_type": "code",
   "execution_count": 117,
   "metadata": {},
   "outputs": [],
   "source": [
    "# Create initial Decision Tree Model\n",
    "dt = DecisionTreeClassifier(labelCol=\"label\", featuresCol=\"features\",seed=739)\n",
    "\n",
    "# Creates a pipeline\n",
    "dt_pipe = Pipeline(stages=[label_stringIdx, va, dt])\n",
    "\n",
    "# Train model with Training Data\n",
    "dtModel = dt_pipe.fit(training_df)"
   ]
  },
  {
   "cell_type": "code",
   "execution_count": 118,
   "metadata": {},
   "outputs": [],
   "source": [
    "# Makes prediction from our test set\n",
    "pred_dt = dtModel.transform(validation_df)"
   ]
  },
  {
   "cell_type": "code",
   "execution_count": 119,
   "metadata": {},
   "outputs": [
    {
     "name": "stdout",
     "output_type": "stream",
     "text": [
      "ROC AUC: 0.7829489078232982\n"
     ]
    }
   ],
   "source": [
    "# prints the ROC AUC score\n",
    "print(\"ROC AUC:\",BinaryClassificationEvaluator(labelCol='label',metricName='areaUnderROC').evaluate(pred_dt))"
   ]
  },
  {
   "cell_type": "code",
   "execution_count": 120,
   "metadata": {},
   "outputs": [
    {
     "name": "stdout",
     "output_type": "stream",
     "text": [
      "Accuracy: 0.8088143637032643\n"
     ]
    }
   ],
   "source": [
    "# calculates the accuracy \n",
    "BinaryClassificationEvaluator(labelCol='label',metricName='areaUnderROC').evaluate(pred_dt)\n",
    "\n",
    "binary_prediction=pred_dt.select(\"prediction\").collect()\n",
    "\n",
    "binary_true_labels=validation_df.select(\"Severity\").collect()\n",
    "\n",
    "print(\"Accuracy:\",np.sum(list([int(binary_true_labels[i][0]==binary_prediction[i][0]) for i in range(len(true_labels))]))/len(true_labels))"
   ]
  }
 ],
 "metadata": {
  "kernelspec": {
   "display_name": "Python 3",
   "language": "python",
   "name": "python3"
  },
  "language_info": {
   "codemirror_mode": {
    "name": "ipython",
    "version": 3
   },
   "file_extension": ".py",
   "mimetype": "text/x-python",
   "name": "python",
   "nbconvert_exporter": "python",
   "pygments_lexer": "ipython3",
   "version": "3.8.8"
  }
 },
 "nbformat": 4,
 "nbformat_minor": 4
}
